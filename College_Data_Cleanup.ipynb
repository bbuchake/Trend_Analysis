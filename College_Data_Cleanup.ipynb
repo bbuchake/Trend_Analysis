{
 "cells": [
  {
   "cell_type": "code",
   "execution_count": 1,
   "metadata": {},
   "outputs": [
    {
     "name": "stderr",
     "output_type": "stream",
     "text": [
      "/Users/bilwa/anaconda3/envs/PythonData/lib/python3.6/site-packages/IPython/core/interactiveshell.py:2698: DtypeWarning: Columns (6,9,1725,1726,1727,1728,1729,1743,1815,1816,1817,1818,1823,1824) have mixed types. Specify dtype option on import or set low_memory=False.\n",
      "  interactivity=interactivity, compiler=compiler, result=result)\n",
      "/Users/bilwa/anaconda3/envs/PythonData/lib/python3.6/site-packages/pandas/core/generic.py:3924: SettingWithCopyWarning: \n",
      "A value is trying to be set on a copy of a slice from a DataFrame\n",
      "\n",
      "See the caveats in the documentation: http://pandas.pydata.org/pandas-docs/stable/indexing.html#indexing-view-versus-copy\n",
      "  self._update_inplace(new_data)\n",
      "/Users/bilwa/anaconda3/envs/PythonData/lib/python3.6/site-packages/ipykernel/__main__.py:29: SettingWithCopyWarning: \n",
      "A value is trying to be set on a copy of a slice from a DataFrame\n",
      "\n",
      "See the caveats in the documentation: http://pandas.pydata.org/pandas-docs/stable/indexing.html#indexing-view-versus-copy\n",
      "/Users/bilwa/anaconda3/envs/PythonData/lib/python3.6/site-packages/ipykernel/__main__.py:30: SettingWithCopyWarning: \n",
      "A value is trying to be set on a copy of a slice from a DataFrame\n",
      "\n",
      "See the caveats in the documentation: http://pandas.pydata.org/pandas-docs/stable/indexing.html#indexing-view-versus-copy\n"
     ]
    }
   ],
   "source": [
    "#Get dependencies\n",
    "import csv\n",
    "import pandas as pd\n",
    "import numpy as np\n",
    "\n",
    "import folium\n",
    "from folium import plugins\n",
    "import matplotlib.pyplot as plt\n",
    "import seaborn as sns\n",
    "\n",
    "%matplotlib inline\n",
    "\n",
    "#Load dataset into CSV\n",
    "FY16_master_df = pd.read_csv('Data/MERGED2015_16_PP.csv')\n",
    "FY16_master_df.head()\n",
    "\n",
    "FY16_data_df = FY16_master_df[\n",
    "    ['UNITID','INSTNM','CITY','STABBR','REGION','LATITUDE','LONGITUDE','PREDDEG','COSTT4_A','COSTT4_P',\n",
    "     'TUITIONFEE_IN','TUITIONFEE_OUT','TUITIONFEE_PROG','C150_4', 'C150_4_WHITE','C150_4_BLACK',\n",
    "     'C150_4_HISP', 'C150_4_ASIAN','C150_4_AIAN', 'C150_4_NHPI','C150_4_2MOR','C150_4_NRA', 'C150_4_UNKN',\n",
    "    'ADM_RATE','SAT_AVG', 'ACTCMMID']\n",
    "]\n",
    "\n",
    "#Replace blanks with NaN\n",
    "FY16_data_df['LATITUDE'].replace('', np.nan, inplace=True)\n",
    "FY16_data_df['LONGITUDE'].replace('', np.nan, inplace=True)\n",
    "\n",
    "#Drop NaNs\n",
    "FY16_data_df.dropna(subset=['LATITUDE'], inplace=True)\n",
    "FY16_data_df.dropna(subset=['LONGITUDE'], inplace=True)\n",
    "\n",
    "cost_data_grouped = FY16_data_df.groupby('PREDDEG')\n",
    "bachelors_df = cost_data_grouped.get_group(3)\n",
    "\n",
    "bachelors_df.to_csv('FY16_College_Data.csv')"
   ]
  },
  {
   "cell_type": "code",
   "execution_count": null,
   "metadata": {
    "collapsed": true
   },
   "outputs": [],
   "source": []
  }
 ],
 "metadata": {
  "kernelspec": {
   "display_name": "Python [conda env:PythonData]",
   "language": "python",
   "name": "conda-env-PythonData-py"
  },
  "language_info": {
   "codemirror_mode": {
    "name": "ipython",
    "version": 3
   },
   "file_extension": ".py",
   "mimetype": "text/x-python",
   "name": "python",
   "nbconvert_exporter": "python",
   "pygments_lexer": "ipython3",
   "version": "3.6.3"
  }
 },
 "nbformat": 4,
 "nbformat_minor": 2
}
